{
  "nbformat": 4,
  "nbformat_minor": 0,
  "metadata": {
    "colab": {
      "provenance": []
    },
    "kernelspec": {
      "name": "python3",
      "display_name": "Python 3"
    },
    "language_info": {
      "name": "python"
    }
  },
  "cells": [
    {
      "cell_type": "markdown",
      "source": [
        "# **Updated Base Email Assistant**"
      ],
      "metadata": {
        "id": "JtKpusSwWIZY"
      }
    },
    {
      "cell_type": "markdown",
      "source": [
        "# Baseline Email Assistant\n",
        "\n",
        "This lesson builds an email assistant that:\n",
        "- Uses OpenAI Agents SDK\n",
        "- Classifies incoming messages (respond, ignore, notify)\n",
        "- Drafts responses\n",
        "- Schedules meetings\n",
        "\n",
        "We'll start with a simple implementation - one that uses hard-coded rules to handle emails."
      ],
      "metadata": {
        "id": "MagfdaZ7WpAq"
      }
    },
    {
      "cell_type": "markdown",
      "metadata": {
        "id": "PdKwzEluDBN7"
      },
      "source": [
        "# Install openai-agents SDK"
      ]
    },
    {
      "cell_type": "code",
      "execution_count": 6,
      "metadata": {
        "id": "3QdkOviEB2ay"
      },
      "outputs": [],
      "source": [
        "!pip install -Uq openai-agents pydantic langmem"
      ]
    },
    {
      "cell_type": "markdown",
      "metadata": {
        "id": "7yD91lz4DIAx"
      },
      "source": [
        "# Make your Notebook capable of running asynchronous functions.\n",
        "Both Jupyter notebooks and Python’s asyncio library utilize event loops, but they serve different purposes and can sometimes interfere with each other.\n",
        "\n",
        "The nest_asyncio library allows the existing event loop to accept nested event loops, enabling asyncio code to run within environments that already have an event loop, such as Jupyter notebooks.\n",
        "\n",
        "In summary, both Jupyter notebooks and Python’s asyncio library utilize event loops to manage asynchronous operations. When working within Jupyter notebooks, it’s essential to be aware of the existing event loop to effectively run asyncio code without conflicts."
      ]
    },
    {
      "cell_type": "code",
      "source": [
        "import nest_asyncio\n",
        "nest_asyncio.apply()"
      ],
      "metadata": {
        "id": "C8YXyIpiZ9v4"
      },
      "execution_count": 7,
      "outputs": []
    },
    {
      "cell_type": "code",
      "execution_count": 8,
      "metadata": {
        "id": "XnusaX_RWF22"
      },
      "outputs": [],
      "source": [
        "from pydantic import BaseModel, Field\n",
        "from agents import (\n",
        "    Agent,\n",
        "    GuardrailFunctionOutput,\n",
        "    InputGuardrailTripwireTriggered,\n",
        "    OutputGuardrailTripwireTriggered,\n",
        "    RunContextWrapper,\n",
        "    Runner,\n",
        "    TResponseInputItem,\n",
        "    input_guardrail,\n",
        "    output_guardrail,\n",
        "    AsyncOpenAI,\n",
        "    OpenAIChatCompletionsModel,\n",
        "    RunConfig\n",
        ")\n",
        "from google.colab import userdata\n",
        "from typing import Dict, Any\n",
        "from typing_extensions import TypedDict, Literal, Annotated\n"
      ]
    },
    {
      "cell_type": "code",
      "source": [
        "gemini_api_key = userdata.get(\"GEMINI_API_KEY\")\n",
        "\n",
        "\n",
        "# Check if the API key is present; if not, raise an error\n",
        "if not gemini_api_key:\n",
        "    raise ValueError(\"GEMINI_API_KEY is not set. Please ensure it is defined in your .env file.\")"
      ],
      "metadata": {
        "id": "oPvcFwItoKqw"
      },
      "execution_count": 9,
      "outputs": []
    },
    {
      "cell_type": "code",
      "source": [
        "#Reference: https://ai.google.dev/gemini-api/docs/openai\n",
        "external_client = AsyncOpenAI(\n",
        "    api_key=gemini_api_key,\n",
        "    base_url=\"https://generativelanguage.googleapis.com/v1beta/openai/\",\n",
        ")\n",
        "\n",
        "model = OpenAIChatCompletionsModel(\n",
        "    model=\"gemini-2.0-flash\",\n",
        "    openai_client=external_client\n",
        ")\n",
        "\n",
        "config = RunConfig(\n",
        "    model=model,\n",
        "    model_provider=external_client,\n",
        "    tracing_disabled=True\n",
        ")\n"
      ],
      "metadata": {
        "id": "ci9rBxqfnyNm"
      },
      "execution_count": 10,
      "outputs": []
    },
    {
      "cell_type": "markdown",
      "source": [
        "## **Setup a Profile, Prompt and Example Email**"
      ],
      "metadata": {
        "id": "QhIqMcxWa6GD"
      }
    },
    {
      "cell_type": "code",
      "source": [
        "profile = {\n",
        "    \"name\": \"John\",\n",
        "    \"full_name\": \"John Doe\",\n",
        "    \"user_profile_background\": \"Senior software engineer leading a team of 5 developers\",\n",
        "}"
      ],
      "metadata": {
        "id": "bNf0OmfHSwkp"
      },
      "execution_count": 11,
      "outputs": []
    },
    {
      "cell_type": "code",
      "source": [
        "prompt_instructions = {\n",
        "    \"triage_rules\": {\n",
        "        \"ignore\": \"Marketing newsletters, spam emails, mass company announcements\",\n",
        "        \"notify\": \"Team member out sick, build system notifications, project status updates\",\n",
        "        \"respond\": \"Direct questions from team members, meeting requests, critical bug reports\",\n",
        "    },\n",
        "    \"agent_instructions\": \"Use these tools when appropriate to help manage John's tasks efficiently.\"\n",
        "}"
      ],
      "metadata": {
        "id": "Z385ETRSTt4P"
      },
      "execution_count": 12,
      "outputs": []
    },
    {
      "cell_type": "code",
      "source": [
        "# Example incoming email\n",
        "email = {\n",
        "    \"from\": \"Alice Smith <alice.smith@company.com>\",\n",
        "    \"to\": \"John Doe <john.doe@company.com>\",\n",
        "    \"subject\": \"Quick question about API documentation\",\n",
        "    \"body\": \"\"\"\n",
        "Hi John,\n",
        "\n",
        "I was reviewing the API documentation for the new authentication service and noticed a few endpoints seem to be missing from the specs. Could you help clarify if this was intentional or if we should update the docs?\n",
        "\n",
        "Specifically, I'm looking at:\n",
        "- /auth/refresh\n",
        "- /auth/validate\n",
        "\n",
        "Thanks!\n",
        "Alice\"\"\",\n",
        "}"
      ],
      "metadata": {
        "id": "_3s1leDMa1-M"
      },
      "execution_count": 13,
      "outputs": []
    },
    {
      "cell_type": "markdown",
      "source": [],
      "metadata": {
        "id": "K2tscy15bI8I"
      }
    },
    {
      "cell_type": "code",
      "source": [
        "class Router(BaseModel):\n",
        "    \"\"\"Analyze the unread email and route it according to its content.\"\"\"\n",
        "\n",
        "    reasoning: str = Field(\n",
        "        description=\"Step-by-step reasoning behind the classification.\"\n",
        "    )\n",
        "    classification: Literal[\"ignore\", \"respond\", \"notify\"] = Field(\n",
        "        description=\"The classification of an email: 'ignore' for irrelevant emails, \"\n",
        "        \"'notify' for important information that doesn't need a response, \"\n",
        "        \"'respond' for emails that need a reply\",\n",
        "    )"
      ],
      "metadata": {
        "id": "ZCmLINFscUji"
      },
      "execution_count": 14,
      "outputs": []
    },
    {
      "cell_type": "markdown",
      "source": [
        "## **Prompts**"
      ],
      "metadata": {
        "id": "cJxC0wFqdCD1"
      }
    },
    {
      "cell_type": "code",
      "source": [
        "# Agent prompt baseline\n",
        "agent_system_prompt = \"\"\"\n",
        "< Role >\n",
        "You are {full_name}'s executive assistant. You are a top-notch executive assistant who cares about {name} performing as well as possible.\n",
        "</ Role >\n",
        "\n",
        "< Tools >\n",
        "You have access to the following tools to help manage {name}'s communications and schedule:\n",
        "\n",
        "1. write_email(to, subject, content) - Send emails to specified recipients\n",
        "2. schedule_meeting(attendees, subject, duration_minutes, preferred_day) - Schedule calendar meetings\n",
        "3. check_calendar_availability(day) - Check available time slots for a given day\n",
        "</ Tools >\n",
        "\n",
        "< Instructions >\n",
        "{instructions}\n",
        "</ Instructions >\n",
        "\"\"\"\n",
        "\n",
        "# Agent prompt semantic memory\n",
        "agent_system_prompt_memory = \"\"\"\n",
        "< Role >\n",
        "You are {full_name}'s executive assistant. You are a top-notch executive assistant who cares about {name} performing as well as possible.\n",
        "</ Role >\n",
        "\n",
        "< Tools >\n",
        "You have access to the following tools to help manage {name}'s communications and schedule:\n",
        "\n",
        "1. write_email(to, subject, content) - Send emails to specified recipients\n",
        "2. schedule_meeting(attendees, subject, duration_minutes, preferred_day) - Schedule calendar meetings\n",
        "3. check_calendar_availability(day) - Check available time slots for a given day\n",
        "4. manage_memory(\"email_assistant\", user, \"collection\") - Store any relevant information about contacts, actions, discussion, etc. in memory for future reference\n",
        "5. manage_memory(\"email_assistant\", user, \"user_profile\") - Store any relevant information about the recipient, {name}, in the user profile for future reference the current user profile is shown below\n",
        "6. search_memory(\"email_assistant\", user, \"collection\") - Search memory for detail from previous emails\n",
        "7. manage_memory(\"email_assistant\", user, \"instructions\") - Update the instructions for agent tool usage based upon the user feedback\n",
        "</ Tools >\n",
        "\n",
        "< User profile >\n",
        "{profile}\n",
        "</ User profile >\n",
        "\n",
        "< Instructions >\n",
        "{instructions}\n",
        "</ Instructions >\n",
        "\"\"\"\n",
        "\n",
        "# Triage prompt\n",
        "triage_system_prompt = \"\"\"\n",
        "< Role >\n",
        "You are {full_name}'s executive assistant. You are a top-notch executive assistant who cares about {name} performing as well as possible.\n",
        "</ Role >\n",
        "\n",
        "< Background >\n",
        "{user_profile_background}.\n",
        "</ Background >\n",
        "\n",
        "< Instructions >\n",
        "\n",
        "{name} gets lots of emails. Your job is to categorize each email into one of three categories:\n",
        "\n",
        "1. IGNORE - Emails that are not worth responding to or tracking\n",
        "2. NOTIFY - Important information that {name} should know about but doesn't require a response\n",
        "3. RESPOND - Emails that need a direct response from {name}\n",
        "\n",
        "Classify the below email into one of these categories.\n",
        "\n",
        "</ Instructions >\n",
        "\n",
        "< Rules >\n",
        "Emails that are not worth responding to:\n",
        "{triage_no}\n",
        "\n",
        "There are also other things that {name} should know about, but don't require an email response. For these, you should notify {name} (using the `notify` response). Examples of this include:\n",
        "{triage_notify}\n",
        "\n",
        "Emails that are worth responding to:\n",
        "{triage_email}\n",
        "</ Rules >\n",
        "\n",
        "< Few shot examples >\n",
        "{examples}\n",
        "</ Few shot examples >\n",
        "\"\"\"\n",
        "\n",
        "triage_user_prompt = \"\"\"\n",
        "Please determine how to handle the below email thread:\n",
        "\n",
        "From: {author}\n",
        "To: {to}\n",
        "Subject: {subject}\n",
        "{email_thread}\"\"\"\n"
      ],
      "metadata": {
        "id": "3l4qiC5xdA4C"
      },
      "execution_count": 15,
      "outputs": []
    },
    {
      "cell_type": "markdown",
      "source": [
        "## **A function to create a prompt using f-string**"
      ],
      "metadata": {
        "id": "bKvnDeJmgdIh"
      }
    },
    {
      "cell_type": "code",
      "source": [
        "def create_prompt(template: str, variables: Dict[str, any]) -> str:\n",
        "    \"\"\"Creates a prompt using an f-string and a dictionary of variables.\"\"\"\n",
        "    try:\n",
        "        return template.format(**variables)\n",
        "    except KeyError as e:\n",
        "        return f\"Error: Missing variable '{e.args[0]}' in the provided dictionary.\""
      ],
      "metadata": {
        "id": "_FzwooWFgeAc"
      },
      "execution_count": 16,
      "outputs": []
    },
    {
      "cell_type": "code",
      "source": [
        "system_prompt = create_prompt(triage_system_prompt, {\n",
        "    \"full_name\": profile[\"full_name\"],\n",
        "    \"name\":profile[\"name\"],\n",
        "    \"examples\": None,\n",
        "    \"user_profile_background\": profile[\"user_profile_background\"],\n",
        "    \"triage_no\" : prompt_instructions[\"triage_rules\"][\"ignore\"],\n",
        "    \"triage_notify\": prompt_instructions[\"triage_rules\"][\"notify\"],\n",
        "    \"triage_email\" : prompt_instructions[\"triage_rules\"][\"respond\"],\n",
        "  }\n",
        ")"
      ],
      "metadata": {
        "id": "3zVxNw8ud9ET"
      },
      "execution_count": 18,
      "outputs": []
    },
    {
      "cell_type": "code",
      "source": [
        "user_prompt = create_prompt(triage_user_prompt, {\n",
        "    \"author\": email[\"from\"],\n",
        "    \"to\": email[\"to\"],\n",
        "    \"subject\": email[\"subject\"],\n",
        "    \"email_thread\" : email[\"body\"],\n",
        "  }\n",
        ")"
      ],
      "metadata": {
        "id": "8hsbNDWCs77g"
      },
      "execution_count": 19,
      "outputs": []
    },
    {
      "cell_type": "code",
      "source": [
        "agent = Agent(\n",
        "    name=\"Customer support agent\",\n",
        "    instructions=system_prompt ,\n",
        ")"
      ],
      "metadata": {
        "id": "TE2j1WJ-YjNK"
      },
      "execution_count": 20,
      "outputs": []
    },
    {
      "cell_type": "code",
      "source": [
        "result = await Runner.run(agent, user_prompt, run_config = config)\n",
        "print(result.final_output)\n"
      ],
      "metadata": {
        "colab": {
          "base_uri": "https://localhost:8080/"
        },
        "id": "xg5g0KaBYuVl",
        "outputId": "06a5eb61-a9f4-4ff1-9f82-44d03608aed0"
      },
      "execution_count": 21,
      "outputs": [
        {
          "output_type": "stream",
          "name": "stdout",
          "text": [
            "Okay, I've reviewed the email. Here's my assessment:\n",
            "\n",
            "*   **Category:** RESPOND\n",
            "*   **Reasoning:** Alice has a direct question about the API documentation, which is relevant to John's role as a lead developer. He needs to clarify the missing endpoints and whether the documentation needs updating. A response is required to help Alice and ensure the API documentation is accurate.\n"
          ]
        }
      ]
    }
  ]
}