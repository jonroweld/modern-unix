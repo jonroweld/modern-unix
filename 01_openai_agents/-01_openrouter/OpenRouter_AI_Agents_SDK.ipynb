{
  "nbformat": 4,
  "nbformat_minor": 0,
  "metadata": {
    "colab": {
      "provenance": []
    },
    "kernelspec": {
      "name": "python3",
      "display_name": "Python 3"
    },
    "language_info": {
      "name": "python"
    }
  },
  "cells": [
    {
      "cell_type": "markdown",
      "source": [
        "# Use OpenRouter With OpenAI Agents SDK"
      ],
      "metadata": {
        "id": "o92NPvIPpmCv"
      }
    },
    {
      "cell_type": "markdown",
      "source": [
        "Setup Prerequisite:\n",
        "\n",
        "1. [Signup at OpenRouter](https://openrouter.ai/)\n",
        "2. [Create an API Key](https://openrouter.ai/settings/keys)\n",
        "2. Select a Free Model (you can continue as we are using a free model here)"
      ],
      "metadata": {
        "id": "l5oT3E8gqY_O"
      }
    },
    {
      "cell_type": "markdown",
      "source": [
        "## Free and Paid Models"
      ],
      "metadata": {
        "id": "-Zh5JPz1qLbD"
      }
    },
    {
      "cell_type": "markdown",
      "source": [
        "The OpenRouter supports the latest DeepSeek V3 0324 and 50+ other models for free. Most of them support the defacto standard: OpenAI Chat Completion API.\n",
        "\n",
        "\n",
        "If you are using a free model variant (with an ID ending in :free), then you will be limited to 20 requests per minute and 200 requests per day.\n",
        "\n",
        "**See all Models List: https://openrouter.ai/models**\n",
        "\n",
        "Note: OpenRouter do not charge anything extra at inference time."
      ],
      "metadata": {
        "id": "3NksiafzqSg7"
      }
    },
    {
      "cell_type": "markdown",
      "source": [
        "## Rate Limiting and Crediting"
      ],
      "metadata": {
        "id": "Krf3ozmkpsVs"
      }
    },
    {
      "cell_type": "markdown",
      "source": [
        "There are a few rate limits that apply to certain types of requests, regardless of account status:\n",
        "\n",
        "- Free limit: If you are using a free model variant (with an ID ending in :free), then you will be limited to 20 requests per minute and 200 requests per day.\n",
        "\n",
        "If your account has a negative credit balance, you may see 402 errors, including for free models. Adding credits to put your balance above zero allows you to use those models again.\n",
        "\n",
        "[Reference](https://openrouter.ai/docs/api-reference/limits)"
      ],
      "metadata": {
        "id": "WhcFykdIqKI4"
      }
    },
    {
      "cell_type": "markdown",
      "source": [
        "## Install OpenAI Agents Dep."
      ],
      "metadata": {
        "id": "GqX_s5idrryf"
      }
    },
    {
      "cell_type": "code",
      "execution_count": 16,
      "metadata": {
        "id": "7teAe2rONlBe"
      },
      "outputs": [],
      "source": [
        "!pip install -Uq openai-agents"
      ]
    },
    {
      "cell_type": "code",
      "source": [
        "import nest_asyncio\n",
        "nest_asyncio.apply()"
      ],
      "metadata": {
        "id": "z3_PWpn4OIyT"
      },
      "execution_count": 17,
      "outputs": []
    },
    {
      "cell_type": "markdown",
      "source": [
        "## Provider Config"
      ],
      "metadata": {
        "id": "ZTOibVJuN_pi"
      }
    },
    {
      "cell_type": "code",
      "source": [
        "from google.colab import userdata\n",
        "\n",
        "OPENROUTER_API_KEY = userdata.get(\"OPENROUTER_API_KEY\")"
      ],
      "metadata": {
        "id": "zvmgohqY0-Wm"
      },
      "execution_count": 18,
      "outputs": []
    },
    {
      "cell_type": "code",
      "source": [
        "#Reference: https://openrouter.ai/docs/quickstart\n",
        "\n",
        "BASE_URL = \"https://openrouter.ai/api/v1\"\n",
        "MODEL = \"google/gemini-2.0-flash-lite-preview-02-05:free\"\n",
        "\n",
        "# Some other free models on 26th March:\n",
        "# https://openrouter.ai/deepseek/deepseek-chat-v3-0324:free\n",
        "# https://openrouter.ai/google/gemini-2.5-pro-exp-03-25:free"
      ],
      "metadata": {
        "id": "DeTqCZKGlVk_"
      },
      "execution_count": 21,
      "outputs": []
    },
    {
      "cell_type": "markdown",
      "source": [
        "## 1. Using the OpenRouter API directly"
      ],
      "metadata": {
        "id": "IyWF4XNPtI7f"
      }
    },
    {
      "cell_type": "code",
      "source": [
        "import requests\n",
        "import json\n",
        "\n",
        "response = requests.post(\n",
        "  url=f\"{BASE_URL}/chat/completions\",\n",
        "  headers={\n",
        "    \"Authorization\": f\"Bearer {OPENROUTER_API_KEY}\",\n",
        "  },\n",
        "  data=json.dumps({\n",
        "    \"model\": MODEL,\n",
        "    \"messages\": [\n",
        "      {\n",
        "        \"role\": \"user\",\n",
        "        \"content\": \"What is the meaning of life?\"\n",
        "      }\n",
        "    ]\n",
        "  })\n",
        ")\n",
        "\n",
        "print(response.json())"
      ],
      "metadata": {
        "colab": {
          "base_uri": "https://localhost:8080/"
        },
        "id": "e0if6eGutM9h",
        "outputId": "825e3677-45cd-44a2-f199-5841dda36e89"
      },
      "execution_count": 27,
      "outputs": [
        {
          "output_type": "stream",
          "name": "stdout",
          "text": [
            "{'id': 'gen-1742929809-Y1kGIWKn14EWRZY5usb1', 'provider': 'Google', 'model': 'google/gemini-2.0-flash-lite-preview-02-05', 'object': 'chat.completion', 'created': 1742929809, 'choices': [{'logprobs': None, 'finish_reason': 'stop', 'native_finish_reason': 'STOP', 'index': 0, 'message': {'role': 'assistant', 'content': 'The meaning of life is a question that has plagued philosophers, theologians, and individuals for centuries. There\\'s no single, universally accepted answer, and the beauty lies in the exploration and the personal meaning we create. Here\\'s a breakdown of different perspectives:\\n\\n**1. Philosophical Approaches:**\\n\\n*   **Nihilism:** This philosophy argues that life is inherently meaningless, without objective purpose, value, or truth. There\\'s nothing to strive for beyond the immediate.\\n*   **Existentialism:** Emphasizes individual freedom and responsibility. We are born into the world without a predetermined purpose, and it\\'s up to us to create our own meaning through our choices and actions. Key figures include Jean-Paul Sartre and Albert Camus.\\n*   **Absurdism:** Acknowledges the conflict between the human desire for meaning and the seemingly meaningless universe. Embraces the absurdity of existence, and encourages a defiant embrace of life despite its inherent lack of purpose. Camus\\'s \"The Myth of Sisyphus\" is a key text.\\n*   **Hedonism:** The pursuit of pleasure and happiness is seen as the ultimate goal of life.\\n*   **Stoicism:** Finding meaning in virtue, reason, and acceptance of what we cannot control. Focus on living a life of integrity, inner peace, and resilience.\\n*   **Utilitarianism:** The meaning of life is to maximize overall happiness and well-being for the greatest number of people (or sometimes, sentient beings).\\n\\n**2. Religious/Spiritual Approaches:**\\n\\n*   **Theism (Judaism, Christianity, Islam, etc.):**  Life\\'s meaning often centers around a relationship with a divine being (God), following religious laws and teachings, serving a higher power, and attaining salvation or enlightenment. Purpose often includes worship, obedience, love, and living in accordance with a divine plan.\\n*   **Buddhism:** The purpose of life is to overcome suffering and achieve enlightenment (Nirvana) by understanding the nature of reality, practicing mindfulness, and following the Eightfold Path.\\n*   **Hinduism:** Meaning is often related to dharma (duty), karma (actions and consequences), and reincarnation, with the ultimate goal of achieving moksha (liberation from the cycle of birth and death).\\n*   **Many different Spiritual Pathways:** Often involves self-discovery, connection with nature, and creating meaningful connections with others by treating each other with kindness, respect, and compassion.\\n\\n**3. Humanistic/Secular Approaches:**\\n\\n*   **Creating Meaning:** Discovering or creating our own meaning. This includes setting goals, pursuing passions, building relationships, contributing to society, developing self-awareness, and living a life with values.\\n*   **Evolutionary Psychology:** Life\\'s core meaning/purpose can be viewed as driven by evolutionary forces. Survival and reproduction are key.\\n*   **Contribution:** Focusing on the good of the world around you. Helping others, or making the world a better place.\\n*   **Experiences and Relationships:** Finding meaning in the connections we make with others, and the various experiences had during life.\\n\\n**In Summary:**\\n\\nThe meaning of life is **subjective.** It\\'s not something you find; it\\'s something you **create**. It\\'s a journey of exploration, self-discovery, and deciding what gives *your* life value.\\n\\nHere are some ways to think about the question to help you find your own answer:\\n\\n*   **Reflect on your values:** What is important to you? What do you care about?\\n*   **Explore your passions:** What brings you joy and fulfillment?\\n*   **Set goals:** What do you want to achieve? What impact do you want to make?\\n*   **Build relationships:** How do you want to connect with others?\\n*   **Embrace change:** Be open to new experiences and perspectives.\\n*   **Remember that it can evolve:** The meaning you find today might change as you grow and evolve. Don\\'t be afraid to reassess.\\n\\nUltimately, the most profound meaning of life is the one you give it.\\n', 'refusal': None}}], 'usage': {'prompt_tokens': 7, 'completion_tokens': 848, 'total_tokens': 855}}\n"
          ]
        }
      ]
    },
    {
      "cell_type": "code",
      "source": [
        "data = response.json()\n",
        "data['choices'][0]['message']['content']"
      ],
      "metadata": {
        "id": "mv3B6_oRto5S",
        "outputId": "d3269b08-9f94-4397-8791-27a3fa6c804e",
        "colab": {
          "base_uri": "https://localhost:8080/",
          "height": 157
        }
      },
      "execution_count": 29,
      "outputs": [
        {
          "output_type": "execute_result",
          "data": {
            "text/plain": [
              "'The meaning of life is a question that has plagued philosophers, theologians, and individuals for centuries. There\\'s no single, universally accepted answer, and the beauty lies in the exploration and the personal meaning we create. Here\\'s a breakdown of different perspectives:\\n\\n**1. Philosophical Approaches:**\\n\\n*   **Nihilism:** This philosophy argues that life is inherently meaningless, without objective purpose, value, or truth. There\\'s nothing to strive for beyond the immediate.\\n*   **Existentialism:** Emphasizes individual freedom and responsibility. We are born into the world without a predetermined purpose, and it\\'s up to us to create our own meaning through our choices and actions. Key figures include Jean-Paul Sartre and Albert Camus.\\n*   **Absurdism:** Acknowledges the conflict between the human desire for meaning and the seemingly meaningless universe. Embraces the absurdity of existence, and encourages a defiant embrace of life despite its inherent lack of purpose. Camus\\'s \"The Myth of Sisyphus\" is a key text.\\n*   **Hedonism:** The pursuit of pleasure and happiness is seen as the ultimate goal of life.\\n*   **Stoicism:** Finding meaning in virtue, reason, and acceptance of what we cannot control. Focus on living a life of integrity, inner peace, and resilience.\\n*   **Utilitarianism:** The meaning of life is to maximize overall happiness and well-being for the greatest number of people (or sometimes, sentient beings).\\n\\n**2. Religious/Spiritual Approaches:**\\n\\n*   **Theism (Judaism, Christianity, Islam, etc.):**  Life\\'s meaning often centers around a relationship with a divine being (God), following religious laws and teachings, serving a higher power, and attaining salvation or enlightenment. Purpose often includes worship, obedience, love, and living in accordance with a divine plan.\\n*   **Buddhism:** The purpose of life is to overcome suffering and achieve enlightenment (Nirvana) by understanding the nature of reality, practicing mindfulness, and following the Eightfold Path.\\n*   **Hinduism:** Meaning is often related to dharma (duty), karma (actions and consequences), and reincarnation, with the ultimate goal of achieving moksha (liberation from the cycle of birth and death).\\n*   **Many different Spiritual Pathways:** Often involves self-discovery, connection with nature, and creating meaningful connections with others by treating each other with kindness, respect, and compassion.\\n\\n**3. Humanistic/Secular Approaches:**\\n\\n*   **Creating Meaning:** Discovering or creating our own meaning. This includes setting goals, pursuing passions, building relationships, contributing to society, developing self-awareness, and living a life with values.\\n*   **Evolutionary Psychology:** Life\\'s core meaning/purpose can be viewed as driven by evolutionary forces. Survival and reproduction are key.\\n*   **Contribution:** Focusing on the good of the world around you. Helping others, or making the world a better place.\\n*   **Experiences and Relationships:** Finding meaning in the connections we make with others, and the various experiences had during life.\\n\\n**In Summary:**\\n\\nThe meaning of life is **subjective.** It\\'s not something you find; it\\'s something you **create**. It\\'s a journey of exploration, self-discovery, and deciding what gives *your* life value.\\n\\nHere are some ways to think about the question to help you find your own answer:\\n\\n*   **Reflect on your values:** What is important to you? What do you care about?\\n*   **Explore your passions:** What brings you joy and fulfillment?\\n*   **Set goals:** What do you want to achieve? What impact do you want to make?\\n*   **Build relationships:** How do you want to connect with others?\\n*   **Embrace change:** Be open to new experiences and perspectives.\\n*   **Remember that it can evolve:** The meaning you find today might change as you grow and evolve. Don\\'t be afraid to reassess.\\n\\nUltimately, the most profound meaning of life is the one you give it.\\n'"
            ],
            "application/vnd.google.colaboratory.intrinsic+json": {
              "type": "string"
            }
          },
          "metadata": {},
          "execution_count": 29
        }
      ]
    },
    {
      "cell_type": "markdown",
      "source": [
        "## 2. Using OpenAI Agents SDK"
      ],
      "metadata": {
        "id": "E_jESzWAsu91"
      }
    },
    {
      "cell_type": "code",
      "source": [
        "import asyncio\n",
        "from openai import AsyncOpenAI\n",
        "from agents import Agent, OpenAIChatCompletionsModel, Runner, set_tracing_disabled\n",
        "\n",
        "client = AsyncOpenAI(\n",
        "    api_key=OPENROUTER_API_KEY,\n",
        "    base_url=BASE_URL\n",
        ")\n",
        "\n",
        "set_tracing_disabled(disabled=True)\n",
        "\n",
        "async def main():\n",
        "    # This agent will use the custom LLM provider\n",
        "    agent = Agent(\n",
        "        name=\"Assistant\",\n",
        "        instructions=\"You only respond in haikus.\",\n",
        "        model=OpenAIChatCompletionsModel(model=MODEL, openai_client=client),\n",
        "    )\n",
        "\n",
        "    result = await Runner.run(\n",
        "        agent,\n",
        "        \"Tell me about recursion in programming.\",\n",
        "    )\n",
        "    print(result.final_output)\n",
        "\n",
        "\n",
        "if __name__ == \"__main__\":\n",
        "    asyncio.run(main())"
      ],
      "metadata": {
        "colab": {
          "base_uri": "https://localhost:8080/"
        },
        "id": "QA4vWqtvN6wm",
        "outputId": "06f541a6-931e-491c-a586-3b1f4a860f87"
      },
      "execution_count": 22,
      "outputs": [
        {
          "output_type": "stream",
          "name": "stdout",
          "text": [
            "A function calls self,\n",
            "Breaking tasks into smaller,\n",
            "Until base is reached.\n",
            "\n"
          ]
        }
      ]
    }
  ]
}